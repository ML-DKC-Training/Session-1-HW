{
 "cells": [
  {
   "cell_type": "markdown",
   "metadata": {},
   "source": [
    "## Functional Programming Section"
   ]
  },
  {
   "cell_type": "markdown",
   "metadata": {},
   "source": [
    "## Challenge 1: Map() \n",
    "\n",
    "Functional Programming with map(). Write a program that takes a filename and\n",
    "\"cleans\" the file by removing all leading and trailing whitespace from each line. Read\n",
    "in the original file and write out a new one, either creating a new file or overwriting\n",
    "the existing one. Give your user the option to pick which of the two to perform.\n",
    "Convert your solution to using list comprehensions."
   ]
  },
  {
   "cell_type": "markdown",
   "metadata": {},
   "source": [
    "## Challenge 2\n",
    "\n",
    "Let’s say you run a company and you’ve just decided to give all your employees a $10,000.00 raise. Implement this functional programming. "
   ]
  },
  {
   "cell_type": "markdown",
   "metadata": {},
   "source": [
    "## OOP's Section\n",
    "## Challenge 1"
   ]
  },
  {
   "cell_type": "code",
   "execution_count": 1,
   "metadata": {},
   "outputs": [],
   "source": [
    "#Remember the Class fraction we implemented?\n",
    "#Implement the __sub__, __mul__ and __truediv__ and the < and > operators as well"
   ]
  },
  {
   "cell_type": "markdown",
   "metadata": {},
   "source": [
    "## Challenge 2\n",
    "    \n",
    "Implement challenge 2 in the above functional programming section via OOPs (Classes)"
   ]
  },
  {
   "cell_type": "code",
   "execution_count": null,
   "metadata": {},
   "outputs": [],
   "source": []
  }
 ],
 "metadata": {
  "kernelspec": {
   "display_name": "Python 3",
   "language": "python",
   "name": "python3"
  },
  "language_info": {
   "codemirror_mode": {
    "name": "ipython",
    "version": 3
   },
   "file_extension": ".py",
   "mimetype": "text/x-python",
   "name": "python",
   "nbconvert_exporter": "python",
   "pygments_lexer": "ipython3",
   "version": "3.6.4"
  }
 },
 "nbformat": 4,
 "nbformat_minor": 2
}
